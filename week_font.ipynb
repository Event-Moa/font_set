{
 "cells": [
  {
   "cell_type": "code",
   "execution_count": 1,
   "metadata": {},
   "outputs": [
    {
     "name": "stdout",
     "output_type": "stream",
     "text": [
      "Requirement already satisfied: pyhwpx in c:\\users\\thdco\\appdata\\local\\programs\\python\\python310\\lib\\site-packages (0.41.2)Note: you may need to restart the kernel to use updated packages.\n",
      "\n",
      "Requirement already satisfied: numpy in c:\\users\\thdco\\appdata\\local\\programs\\python\\python310\\lib\\site-packages (from pyhwpx) (2.1.3)\n",
      "Requirement already satisfied: pandas in c:\\users\\thdco\\appdata\\local\\programs\\python\\python310\\lib\\site-packages (from pyhwpx) (2.2.3)\n",
      "Requirement already satisfied: pywin32 in c:\\users\\thdco\\appdata\\roaming\\python\\python310\\site-packages (from pyhwpx) (306)\n",
      "Requirement already satisfied: openpyxl in c:\\users\\thdco\\appdata\\local\\programs\\python\\python310\\lib\\site-packages (from pyhwpx) (3.1.5)\n",
      "Requirement already satisfied: pyperclip in c:\\users\\thdco\\appdata\\local\\programs\\python\\python310\\lib\\site-packages (from pyhwpx) (1.9.0)\n",
      "Requirement already satisfied: Pillow in c:\\users\\thdco\\appdata\\local\\programs\\python\\python310\\lib\\site-packages (from pyhwpx) (11.0.0)\n",
      "Requirement already satisfied: et-xmlfile in c:\\users\\thdco\\appdata\\local\\programs\\python\\python310\\lib\\site-packages (from openpyxl->pyhwpx) (2.0.0)\n",
      "Requirement already satisfied: python-dateutil>=2.8.2 in c:\\users\\thdco\\appdata\\roaming\\python\\python310\\site-packages (from pandas->pyhwpx) (2.9.0.post0)\n",
      "Requirement already satisfied: pytz>=2020.1 in c:\\users\\thdco\\appdata\\local\\programs\\python\\python310\\lib\\site-packages (from pandas->pyhwpx) (2024.2)\n",
      "Requirement already satisfied: tzdata>=2022.7 in c:\\users\\thdco\\appdata\\local\\programs\\python\\python310\\lib\\site-packages (from pandas->pyhwpx) (2024.2)\n",
      "Requirement already satisfied: six>=1.5 in c:\\users\\thdco\\appdata\\roaming\\python\\python310\\site-packages (from python-dateutil>=2.8.2->pandas->pyhwpx) (1.16.0)\n"
     ]
    }
   ],
   "source": [
    "%pip install pyhwpx"
   ]
  },
  {
   "cell_type": "code",
   "execution_count": 60,
   "metadata": {},
   "outputs": [
    {
     "data": {
      "text/plain": [
       "True"
      ]
     },
     "execution_count": 60,
     "metadata": {},
     "output_type": "execute_result"
    }
   ],
   "source": [
    "from pyhwpx import Hwp\n",
    "hwp = Hwp()\n",
    "\n",
    "hwp.Open(r\"C:\\Users\\thdco\\template2.hwp\")"
   ]
  },
  {
   "cell_type": "code",
   "execution_count": 61,
   "metadata": {},
   "outputs": [],
   "source": [
    "def line_spacing(line_spacing):\n",
    "    paragraph_shape = hwp.XHwpDocuments.Item(0).XHwpParagraphShape\n",
    "    paragraph_shape.LineSpacing = line_spacing"
   ]
  },
  {
   "cell_type": "code",
   "execution_count": 62,
   "metadata": {},
   "outputs": [],
   "source": [
    "hwp.set_pos(14,0,0)\n",
    "hwp.TableCellBlock()\n",
    "\n",
    "for i in range (7):\n",
    "        hwp.set_pos(14+i*13,0,0)\n",
    "        line_spacing(100)   #줄간격 100 설정\n",
    "        hwp.ParagraphShapeAlignCenter() #가운데 정렬\n",
    "        hwp.set_font(\n",
    "        Height=12,\n",
    "        FaceName=\"나눔명조\",\n",
    "        Ratio=80,\n",
    "        Spacing=0,\n",
    "        TextColor=hwp.rgb_color(0, 0, 0))\n",
    "        \n",
    "        if i == 5 : \n",
    "                hwp.set_pos(14+i*13,0,0)\n",
    "                line_spacing(100)   #줄간격 100 설정\n",
    "                hwp.ParagraphShapeAlignCenter() #가운데 정렬\n",
    "                hwp.set_font(\n",
    "                Height=12,\n",
    "                FaceName=\"나눔명조\",\n",
    "                Ratio=80,\n",
    "                Spacing=0,      \n",
    "                TextColor=hwp.rgb_color(0, 0, 255))\n",
    "        \n",
    "        if i == 6 : \n",
    "                hwp.set_pos(14+i*13,0,0)\n",
    "                line_spacing(100)   #줄간격 100 설정\n",
    "                hwp.ParagraphShapeAlignCenter() #가운데 정렬\n",
    "                hwp.set_font(\n",
    "                Height=12,\n",
    "                FaceName=\"나눔명조\",\n",
    "                Ratio=80,\n",
    "                Spacing=0,\n",
    "                TextColor=hwp.rgb_color(255, 0, 0))"
   ]
  },
  {
   "cell_type": "code",
   "execution_count": 63,
   "metadata": {},
   "outputs": [],
   "source": [
    "for i in range(15,21):\n",
    "    match i:\n",
    "        case 15 :   # 시간\n",
    "            hwp.set_pos(i,0,0)\n",
    "            hwp.TableCellBlock() #그냥 테이블 셀 선택\n",
    "            hwp.TableCellBlockExtend() #선택된셀에서 f5누른거랑 같은 기능\n",
    "            hwp.TableColPageDown()\n",
    "\n",
    "            hwp.ParagraphShapeAlignCenter() #가운데 정렬\n",
    "            line_spacing(100)   #줄간격 100 설정\n",
    "\n",
    "            hwp.set_font(\n",
    "                Height=12,\n",
    "                FaceName=\"나눔명조\",\n",
    "                Ratio=80,\n",
    "                Spacing=0,\n",
    "                TextColor=hwp.rgb_color(0,0,0)\n",
    "            )\n",
    "            \n",
    "        case 16 :   # 행사명\n",
    "            hwp.set_pos(i,0,0)\n",
    "            hwp.TableCellBlock() #그냥 테이블 셀 선택\n",
    "            hwp.TableCellBlockExtend() #선택된셀에서 f5누른거랑 같은 기능\n",
    "            hwp.TableColPageDown()\n",
    "\n",
    "            hwp.ParagraphShapeAlignJustify() #양쪽 정렬\n",
    "            line_spacing(120)   #줄간격 100 설정\n",
    "\n",
    "            hwp.set_font(\n",
    "                Height=12,\n",
    "                FaceName=\"나눔명조\",\n",
    "                Ratio=80,\n",
    "                Spacing=0,\n",
    "                TextColor=hwp.rgb_color(0,0,0)\n",
    "            )\n",
    "            \n",
    "        case 17 :   # 장소\n",
    "            hwp.set_pos(i,0,0)\n",
    "            hwp.TableCellBlock() #그냥 테이블 셀 선택\n",
    "            hwp.TableCellBlockExtend() #선택된셀에서 f5누른거랑 같은 기능\n",
    "            hwp.TableColPageDown()\n",
    "\n",
    "            hwp.ParagraphShapeAlignDistribute() #배분 정렬\n",
    "            line_spacing(110)   #줄간격 100 설정\n",
    "\n",
    "            hwp.set_font(\n",
    "                Height=11,\n",
    "                FaceName=\"나눔명조\",\n",
    "                Ratio=80,\n",
    "                Spacing=0,\n",
    "                TextColor=hwp.rgb_color(0,0,0)\n",
    "            )\n",
    "            \n",
    "        case 18 :   # 인원\n",
    "            hwp.set_pos(i,0,0)\n",
    "            hwp.TableCellBlock() #그냥 테이블 셀 선택\n",
    "            hwp.TableCellBlockExtend() #선택된셀에서 f5누른거랑 같은 기능\n",
    "            hwp.TableColPageDown()\n",
    "\n",
    "            hwp.ParagraphShapeAlignRight() #오른쪽 정렬\n",
    "            line_spacing(250)   #줄간격 100 설정\n",
    "\n",
    "            hwp.set_font(\n",
    "                Height=12,\n",
    "                FaceName=\"나눔명조\",\n",
    "                Ratio=80,\n",
    "                Spacing=0,\n",
    "                TextColor=hwp.rgb_color(0,0,0)\n",
    "            )\n",
    "            \n",
    "        case 19 :   # 담당부서\n",
    "            hwp.set_pos(i,0,0)\n",
    "            hwp.TableCellBlock() #그냥 테이블 셀 선택\n",
    "            hwp.TableCellBlockExtend() #선택된셀에서 f5누른거랑 같은 기능\n",
    "            hwp.TableColPageDown()\n",
    "\n",
    "            hwp.ParagraphShapeAlignDistribute() #배분 정렬\n",
    "            line_spacing(110)   #줄간격 100 설정\n",
    "\n",
    "            hwp.set_font(\n",
    "                Height=11,\n",
    "                FaceName=\"나눔명조\",\n",
    "                Ratio=80,\n",
    "                Spacing=0,\n",
    "                TextColor=hwp.rgb_color(0,0,0)\n",
    "            )\n",
    "            \n",
    "        case 20 :   # 비고\n",
    "            hwp.set_pos(i,0,0)\n",
    "            hwp.TableCellBlock() #그냥 테이블 셀 선택\n",
    "            hwp.TableCellBlockExtend() #선택된셀에서 f5누른거랑 같은 기능\n",
    "            hwp.TableColPageDown()\n",
    "\n",
    "            hwp.ParagraphShapeAlignDistribute() #배분 정렬\n",
    "            line_spacing(100)   #줄간격 100 설정\n",
    "\n",
    "            hwp.set_font(\n",
    "                Bold=1,\n",
    "                Height=11,\n",
    "                FaceName=\"나눔명조\",\n",
    "                Ratio=85,\n",
    "                Spacing=0,\n",
    "                TextColor=hwp.rgb_color(0,0,0)\n",
    "            )"
   ]
  },
  {
   "cell_type": "code",
   "execution_count": 33,
   "metadata": {},
   "outputs": [
    {
     "data": {
      "text/plain": [
       "(15, 0, 0)"
      ]
     },
     "execution_count": 33,
     "metadata": {},
     "output_type": "execute_result"
    }
   ],
   "source": [
    "hwp.get_pos()"
   ]
  }
 ],
 "metadata": {
  "kernelspec": {
   "display_name": "Python 3",
   "language": "python",
   "name": "python3"
  },
  "language_info": {
   "codemirror_mode": {
    "name": "ipython",
    "version": 3
   },
   "file_extension": ".py",
   "mimetype": "text/x-python",
   "name": "python",
   "nbconvert_exporter": "python",
   "pygments_lexer": "ipython3",
   "version": "3.10.2"
  }
 },
 "nbformat": 4,
 "nbformat_minor": 2
}
